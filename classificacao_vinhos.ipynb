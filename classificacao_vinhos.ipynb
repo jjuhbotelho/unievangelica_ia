{
  "nbformat": 4,
  "nbformat_minor": 0,
  "metadata": {
    "colab": {
      "provenance": [],
      "mount_file_id": "1IZsJs5WyZbxrC6MrEhtEef8BRNnPBlBZ",
      "authorship_tag": "ABX9TyPb+3f7wk0KhnWQAULB3Gdc",
      "include_colab_link": true
    },
    "kernelspec": {
      "name": "python3",
      "display_name": "Python 3"
    },
    "language_info": {
      "name": "python"
    }
  },
  "cells": [
    {
      "cell_type": "markdown",
      "metadata": {
        "id": "view-in-github",
        "colab_type": "text"
      },
      "source": [
        "<a href=\"https://colab.research.google.com/github/jjuhbotelho/unievangelica_ia/blob/main/classificacao_vinhos.ipynb\" target=\"_parent\"><img src=\"https://colab.research.google.com/assets/colab-badge.svg\" alt=\"Open In Colab\"/></a>"
      ]
    },
    {
      "cell_type": "code",
      "execution_count": 3,
      "metadata": {
        "id": "6Gtq6VHv6xCf"
      },
      "outputs": [],
      "source": [
        "import pandas as pd\n",
        "from sklearn.model_selection import train_test_split\n",
        "from sklearn.preprocessing import StandardScaler\n",
        "from sklearn.svm import LinearSVC\n",
        "from sklearn.dummy import DummyClassifier\n",
        "from sklearn.metrics import accuracy_score\n",
        "\n",
        "# 1. Leitura e Exploração de Dados\n",
        "file_path = \"/content/drive/MyDrive/DataSets/wine_dataset_henri.csv\"\n",
        "data = pd.read_csv(file_path)"
      ]
    },
    {
      "cell_type": "code",
      "source": [
        "# Visualização das primeiras linhas do conjunto de dados\n",
        "print(\"Visualização das primeiras linhas do conjunto de dados:\")\n",
        "print(data.head())"
      ],
      "metadata": {
        "colab": {
          "base_uri": "https://localhost:8080/"
        },
        "id": "_w_-kpjr-b3y",
        "outputId": "705522ae-3984-4ee0-e370-baaa8cbd229e"
      },
      "execution_count": 4,
      "outputs": [
        {
          "output_type": "stream",
          "name": "stdout",
          "text": [
            "Visualização das primeiras linhas do conjunto de dados:\n",
            "   fixed_acidity  volatile_acidity  citric_acid  residual_sugar  chlorides  \\\n",
            "0           11.2              0.28         0.56             1.9      0.075   \n",
            "1            7.3              0.65         0.00             1.2      0.065   \n",
            "2            7.5              0.50         0.36             6.1      0.071   \n",
            "3            8.9              0.62         0.19             3.9      0.170   \n",
            "4            7.9              0.32         0.51             1.8      0.341   \n",
            "\n",
            "   free_sulfur_dioxide  total_sulfur_dioxide  density    pH  sulphates  \\\n",
            "0                 17.0                  60.0   0.9980  3.16       0.58   \n",
            "1                 15.0                  21.0   0.9946  3.39       0.47   \n",
            "2                 17.0                 102.0   0.9978  3.35       0.80   \n",
            "3                 51.0                 148.0   0.9986  3.17       0.93   \n",
            "4                 17.0                  56.0   0.9969  3.04       1.08   \n",
            "\n",
            "   alcohol  quality style  \n",
            "0      9.8        6   red  \n",
            "1     10.0        7   red  \n",
            "2     10.5        5   red  \n",
            "3      9.2        5   red  \n",
            "4      9.2        6   red  \n"
          ]
        }
      ]
    },
    {
      "cell_type": "code",
      "source": [
        "# Informações sobre o conjunto de dados\n",
        "print(\"\\nInformações sobre o conjunto de dados:\")\n",
        "print(data.info())"
      ],
      "metadata": {
        "colab": {
          "base_uri": "https://localhost:8080/"
        },
        "id": "_7_sO-Eo-dlO",
        "outputId": "9f42cc09-28c7-4dfc-be37-782053f82039"
      },
      "execution_count": 5,
      "outputs": [
        {
          "output_type": "stream",
          "name": "stdout",
          "text": [
            "\n",
            "Informações sobre o conjunto de dados:\n",
            "<class 'pandas.core.frame.DataFrame'>\n",
            "RangeIndex: 1074 entries, 0 to 1073\n",
            "Data columns (total 13 columns):\n",
            " #   Column                Non-Null Count  Dtype  \n",
            "---  ------                --------------  -----  \n",
            " 0   fixed_acidity         1074 non-null   float64\n",
            " 1   volatile_acidity      1074 non-null   float64\n",
            " 2   citric_acid           1074 non-null   float64\n",
            " 3   residual_sugar        1074 non-null   float64\n",
            " 4   chlorides             1074 non-null   float64\n",
            " 5   free_sulfur_dioxide   1074 non-null   float64\n",
            " 6   total_sulfur_dioxide  1074 non-null   float64\n",
            " 7   density               1074 non-null   float64\n",
            " 8   pH                    1074 non-null   float64\n",
            " 9   sulphates             1074 non-null   float64\n",
            " 10  alcohol               1074 non-null   float64\n",
            " 11  quality               1074 non-null   int64  \n",
            " 12  style                 1074 non-null   object \n",
            "dtypes: float64(11), int64(1), object(1)\n",
            "memory usage: 109.2+ KB\n",
            "None\n"
          ]
        }
      ]
    },
    {
      "cell_type": "code",
      "source": [
        "# Estatísticas descritivas das variáveis numéricas\n",
        "print(\"\\nEstatísticas descritivas das variáveis numéricas:\")\n",
        "print(data.describe())"
      ],
      "metadata": {
        "colab": {
          "base_uri": "https://localhost:8080/"
        },
        "id": "fLVTl2xU-hAk",
        "outputId": "8ded2d11-dfb2-40f2-8e3f-cef2eefb62eb"
      },
      "execution_count": 6,
      "outputs": [
        {
          "output_type": "stream",
          "name": "stdout",
          "text": [
            "\n",
            "Estatísticas descritivas das variáveis numéricas:\n",
            "       fixed_acidity  volatile_acidity  citric_acid  residual_sugar  \\\n",
            "count    1074.000000       1074.000000  1074.000000     1074.000000   \n",
            "mean        7.457728          0.358450     0.323939        5.075186   \n",
            "std         1.396199          0.181682     0.152262        4.611185   \n",
            "min         4.200000          0.080000     0.000000        0.700000   \n",
            "25%         6.600000          0.230000     0.250000        1.800000   \n",
            "50%         7.100000          0.300000     0.320000        2.600000   \n",
            "75%         7.900000          0.440000     0.410000        7.100000   \n",
            "max        15.500000          1.580000     1.230000       23.500000   \n",
            "\n",
            "         chlorides  free_sulfur_dioxide  total_sulfur_dioxide      density  \\\n",
            "count  1074.000000          1074.000000           1074.000000  1074.000000   \n",
            "mean      0.058838            29.031192            110.105680     0.995076   \n",
            "std       0.036531            17.702726             60.289487     0.002875   \n",
            "min       0.016000             1.000000              6.000000     0.988650   \n",
            "25%       0.039000            15.000000             57.250000     0.992800   \n",
            "50%       0.048500            27.000000            114.000000     0.995300   \n",
            "75%       0.072000            40.000000            156.750000     0.997237   \n",
            "max       0.414000           118.500000            294.000000     1.003690   \n",
            "\n",
            "                pH    sulphates      alcohol      quality  \n",
            "count  1074.000000  1074.000000  1074.000000  1074.000000  \n",
            "mean      3.235968     0.541425    10.444615     5.821229  \n",
            "std       0.164776     0.156734     1.148290     0.878275  \n",
            "min       2.720000     0.220000     8.600000     3.000000  \n",
            "25%       3.120000     0.440000     9.500000     5.000000  \n",
            "50%       3.230000     0.520000    10.200000     6.000000  \n",
            "75%       3.340000     0.617500    11.200000     6.000000  \n",
            "max       3.900000     1.620000    14.000000     9.000000  \n"
          ]
        }
      ]
    },
    {
      "cell_type": "code",
      "source": [
        "# Contagem de valores únicos na coluna 'style'\n",
        "print(\"\\nContagem de valores únicos na coluna 'style':\")\n",
        "print(data['style'].value_counts())"
      ],
      "metadata": {
        "colab": {
          "base_uri": "https://localhost:8080/"
        },
        "id": "c1In4Xv8-iEf",
        "outputId": "2b6b4b98-12e2-43f9-b164-adf313fd11ed"
      },
      "execution_count": 7,
      "outputs": [
        {
          "output_type": "stream",
          "name": "stdout",
          "text": [
            "\n",
            "Contagem de valores únicos na coluna 'style':\n",
            "white    725\n",
            "red      349\n",
            "Name: style, dtype: int64\n"
          ]
        }
      ]
    },
    {
      "cell_type": "code",
      "source": [
        "# 2. Pré-processamento de Dados\n",
        "X = data.drop('style', axis=1)\n",
        "y = data['style']\n",
        "scaler = StandardScaler()\n",
        "X_scaled = scaler.fit_transform(X)"
      ],
      "metadata": {
        "id": "pVGh88gN-jlz"
      },
      "execution_count": 8,
      "outputs": []
    },
    {
      "cell_type": "code",
      "source": [
        "# 3. Divisão do Conjunto de Treinamento e Teste\n",
        "X_train, X_test, y_train, y_test = train_test_split(X_scaled, y, test_size=0.2, random_state=42)"
      ],
      "metadata": {
        "id": "RynMboEq-nIB"
      },
      "execution_count": 9,
      "outputs": []
    },
    {
      "cell_type": "code",
      "source": [
        "# 4. Implementação do LinearSVC\n",
        "clf_svc = LinearSVC()\n",
        "clf_svc.fit(X_train, y_train)"
      ],
      "metadata": {
        "colab": {
          "base_uri": "https://localhost:8080/",
          "height": 75
        },
        "id": "1wb9_H5I-o_i",
        "outputId": "fde7103d-86c3-4371-d77d-ddd1ff427e66"
      },
      "execution_count": 10,
      "outputs": [
        {
          "output_type": "execute_result",
          "data": {
            "text/plain": [
              "LinearSVC()"
            ],
            "text/html": [
              "<style>#sk-container-id-1 {color: black;background-color: white;}#sk-container-id-1 pre{padding: 0;}#sk-container-id-1 div.sk-toggleable {background-color: white;}#sk-container-id-1 label.sk-toggleable__label {cursor: pointer;display: block;width: 100%;margin-bottom: 0;padding: 0.3em;box-sizing: border-box;text-align: center;}#sk-container-id-1 label.sk-toggleable__label-arrow:before {content: \"▸\";float: left;margin-right: 0.25em;color: #696969;}#sk-container-id-1 label.sk-toggleable__label-arrow:hover:before {color: black;}#sk-container-id-1 div.sk-estimator:hover label.sk-toggleable__label-arrow:before {color: black;}#sk-container-id-1 div.sk-toggleable__content {max-height: 0;max-width: 0;overflow: hidden;text-align: left;background-color: #f0f8ff;}#sk-container-id-1 div.sk-toggleable__content pre {margin: 0.2em;color: black;border-radius: 0.25em;background-color: #f0f8ff;}#sk-container-id-1 input.sk-toggleable__control:checked~div.sk-toggleable__content {max-height: 200px;max-width: 100%;overflow: auto;}#sk-container-id-1 input.sk-toggleable__control:checked~label.sk-toggleable__label-arrow:before {content: \"▾\";}#sk-container-id-1 div.sk-estimator input.sk-toggleable__control:checked~label.sk-toggleable__label {background-color: #d4ebff;}#sk-container-id-1 div.sk-label input.sk-toggleable__control:checked~label.sk-toggleable__label {background-color: #d4ebff;}#sk-container-id-1 input.sk-hidden--visually {border: 0;clip: rect(1px 1px 1px 1px);clip: rect(1px, 1px, 1px, 1px);height: 1px;margin: -1px;overflow: hidden;padding: 0;position: absolute;width: 1px;}#sk-container-id-1 div.sk-estimator {font-family: monospace;background-color: #f0f8ff;border: 1px dotted black;border-radius: 0.25em;box-sizing: border-box;margin-bottom: 0.5em;}#sk-container-id-1 div.sk-estimator:hover {background-color: #d4ebff;}#sk-container-id-1 div.sk-parallel-item::after {content: \"\";width: 100%;border-bottom: 1px solid gray;flex-grow: 1;}#sk-container-id-1 div.sk-label:hover label.sk-toggleable__label {background-color: #d4ebff;}#sk-container-id-1 div.sk-serial::before {content: \"\";position: absolute;border-left: 1px solid gray;box-sizing: border-box;top: 0;bottom: 0;left: 50%;z-index: 0;}#sk-container-id-1 div.sk-serial {display: flex;flex-direction: column;align-items: center;background-color: white;padding-right: 0.2em;padding-left: 0.2em;position: relative;}#sk-container-id-1 div.sk-item {position: relative;z-index: 1;}#sk-container-id-1 div.sk-parallel {display: flex;align-items: stretch;justify-content: center;background-color: white;position: relative;}#sk-container-id-1 div.sk-item::before, #sk-container-id-1 div.sk-parallel-item::before {content: \"\";position: absolute;border-left: 1px solid gray;box-sizing: border-box;top: 0;bottom: 0;left: 50%;z-index: -1;}#sk-container-id-1 div.sk-parallel-item {display: flex;flex-direction: column;z-index: 1;position: relative;background-color: white;}#sk-container-id-1 div.sk-parallel-item:first-child::after {align-self: flex-end;width: 50%;}#sk-container-id-1 div.sk-parallel-item:last-child::after {align-self: flex-start;width: 50%;}#sk-container-id-1 div.sk-parallel-item:only-child::after {width: 0;}#sk-container-id-1 div.sk-dashed-wrapped {border: 1px dashed gray;margin: 0 0.4em 0.5em 0.4em;box-sizing: border-box;padding-bottom: 0.4em;background-color: white;}#sk-container-id-1 div.sk-label label {font-family: monospace;font-weight: bold;display: inline-block;line-height: 1.2em;}#sk-container-id-1 div.sk-label-container {text-align: center;}#sk-container-id-1 div.sk-container {/* jupyter's `normalize.less` sets `[hidden] { display: none; }` but bootstrap.min.css set `[hidden] { display: none !important; }` so we also need the `!important` here to be able to override the default hidden behavior on the sphinx rendered scikit-learn.org. See: https://github.com/scikit-learn/scikit-learn/issues/21755 */display: inline-block !important;position: relative;}#sk-container-id-1 div.sk-text-repr-fallback {display: none;}</style><div id=\"sk-container-id-1\" class=\"sk-top-container\"><div class=\"sk-text-repr-fallback\"><pre>LinearSVC()</pre><b>In a Jupyter environment, please rerun this cell to show the HTML representation or trust the notebook. <br />On GitHub, the HTML representation is unable to render, please try loading this page with nbviewer.org.</b></div><div class=\"sk-container\" hidden><div class=\"sk-item\"><div class=\"sk-estimator sk-toggleable\"><input class=\"sk-toggleable__control sk-hidden--visually\" id=\"sk-estimator-id-1\" type=\"checkbox\" checked><label for=\"sk-estimator-id-1\" class=\"sk-toggleable__label sk-toggleable__label-arrow\">LinearSVC</label><div class=\"sk-toggleable__content\"><pre>LinearSVC()</pre></div></div></div></div></div>"
            ]
          },
          "metadata": {},
          "execution_count": 10
        }
      ]
    },
    {
      "cell_type": "code",
      "source": [
        "# 5. Avaliação do Modelo\n",
        "y_pred_svc = clf_svc.predict(X_test)\n",
        "accuracy_svc = accuracy_score(y_test, y_pred_svc)\n",
        "print(\"\\nAcurácia do LinearSVC:\", accuracy_svc)"
      ],
      "metadata": {
        "colab": {
          "base_uri": "https://localhost:8080/"
        },
        "id": "uWc9N-4M-qYa",
        "outputId": "b3bde084-b03a-48af-8484-ed0f37bda251"
      },
      "execution_count": 11,
      "outputs": [
        {
          "output_type": "stream",
          "name": "stdout",
          "text": [
            "\n",
            "Acurácia do LinearSVC: 0.9953488372093023\n"
          ]
        }
      ]
    },
    {
      "cell_type": "code",
      "source": [
        "# 6. Comparação com DummyClassifier\n",
        "dummy_clf = DummyClassifier(strategy=\"most_frequent\")\n",
        "dummy_clf.fit(X_train, y_train)\n",
        "y_pred_dummy = dummy_clf.predict(X_test)\n",
        "accuracy_dummy = accuracy_score(y_test, y_pred_dummy)\n",
        "print(\"Acurácia do DummyClassifier (most_frequent):\", accuracy_dummy)"
      ],
      "metadata": {
        "colab": {
          "base_uri": "https://localhost:8080/"
        },
        "id": "d5XXSAB6-sOb",
        "outputId": "65a2fc40-de71-4ba7-e99d-2351260e8370"
      },
      "execution_count": 12,
      "outputs": [
        {
          "output_type": "stream",
          "name": "stdout",
          "text": [
            "Acurácia do DummyClassifier (most_frequent): 0.6837209302325581\n"
          ]
        }
      ]
    },
    {
      "cell_type": "code",
      "source": [
        "# 7. Análise e Discussão\n",
        "print(\"\\nDiferença de Acurácia entre LinearSVC e DummyClassifier:\", accuracy_svc - accuracy_dummy)"
      ],
      "metadata": {
        "colab": {
          "base_uri": "https://localhost:8080/"
        },
        "id": "CXL4E_1q-uNu",
        "outputId": "73fba9a2-10b6-4c70-8ae6-e5a54b04c03b"
      },
      "execution_count": 13,
      "outputs": [
        {
          "output_type": "stream",
          "name": "stdout",
          "text": [
            "\n",
            "Diferença de Acurácia entre LinearSVC e DummyClassifier: 0.31162790697674425\n"
          ]
        }
      ]
    }
  ]
}